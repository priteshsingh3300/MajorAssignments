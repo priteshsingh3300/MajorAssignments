{
 "cells": [
  {
   "cell_type": "markdown",
   "metadata": {},
   "source": [
    "1.Find the data type of these two declaration:\n",
    "x=5\n",
    "y=\"John\""
   ]
  },
  {
   "cell_type": "code",
   "execution_count": 12,
   "metadata": {},
   "outputs": [
    {
     "name": "stdout",
     "output_type": "stream",
     "text": [
      "<class 'int'>\n",
      "<class 'str'>\n"
     ]
    }
   ],
   "source": [
    "x = 5\n",
    "y = \"John\"\n",
    "\n",
    "print(type(x))\n",
    "print(type(y))"
   ]
  },
  {
   "cell_type": "markdown",
   "metadata": {},
   "source": [
    "2. Check whether the following syntax is valid or invalid for naming a variable.:\n",
    "Example:\n",
    "    abc = 100 #validsyntax\n",
    "\n",
    "i. 3a = 10\n",
    "ii. @abc = 10\n",
    "iii. a100 = 100\n",
    "iv. _a984_ = 100\n",
    "v. a9967$ = 100\n",
    "vi. xyz-2 = 100"
   ]
  },
  {
   "cell_type": "code",
   "execution_count": 22,
   "metadata": {},
   "outputs": [
    {
     "name": "stdout",
     "output_type": "stream",
     "text": [
      "100   200\n"
     ]
    }
   ],
   "source": [
    "3a = 10 # invalid syntax\n",
    "@abc = 10 # invalid syntax\n",
    "\n",
    "a100 = 100 # valid syntax\n",
    "_a984_ = 200 # valid syntax\n",
    "\n",
    "a9967$ = 100 # invalid syntax\n",
    "xyz-2 = 100 # invalid syntax\n",
    "\n",
    "print(a100, \" \", _a984_ )"
   ]
  },
  {
   "cell_type": "markdown",
   "metadata": {},
   "source": [
    "3. Check if element exists in list in Python:\n",
    "list = \n",
    "test_list = [1,6,3,5,3,4]\n",
    "\n",
    "1. Check if 3 exist or not\n",
    "2. Check if 9 exists or not"
   ]
  },
  {
   "cell_type": "code",
   "execution_count": 28,
   "metadata": {},
   "outputs": [
    {
     "name": "stdout",
     "output_type": "stream",
     "text": [
      "not exist\n",
      "not exist\n",
      "exist\n",
      "not exist\n",
      "exist\n",
      "not exist\n"
     ]
    }
   ],
   "source": [
    "test_list = [1,6,3,5,3,4]\n",
    "a = 3\n",
    "b = 9\n",
    "for i in test_list:\n",
    "    if i==a or i == b:\n",
    "        print(\"exist\")\n",
    "    else:\n",
    "        print(\"not exist\")\n",
    "        "
   ]
  },
  {
   "cell_type": "markdown",
   "metadata": {},
   "source": [
    "4.Take the user input to print the current date "
   ]
  },
  {
   "cell_type": "code",
   "execution_count": 29,
   "metadata": {},
   "outputs": [
    {
     "name": "stdout",
     "output_type": "stream",
     "text": [
      "Today date is:  2024-03-23\n"
     ]
    }
   ],
   "source": [
    "# Import date class from datetime module\n",
    "from datetime import date\n",
    " \n",
    "\n",
    "today = date.today()\n",
    "print(\"Today date is: \", today)"
   ]
  },
  {
   "cell_type": "markdown",
   "metadata": {},
   "source": [
    "5.\twhat is the output of the following code :\n",
    "   a.\tprint 9//2\n",
    "   b.\tprint 9%2"
   ]
  },
  {
   "cell_type": "code",
   "execution_count": 1,
   "metadata": {},
   "outputs": [
    {
     "name": "stdout",
     "output_type": "stream",
     "text": [
      "4\n",
      "1\n"
     ]
    }
   ],
   "source": [
    "print (9//2)\n",
    "print (9%2)"
   ]
  },
  {
   "cell_type": "markdown",
   "metadata": {},
   "source": [
    "6.\tPrint First 10 natural numbers using a while loop."
   ]
  },
  {
   "cell_type": "code",
   "execution_count": 3,
   "metadata": {},
   "outputs": [
    {
     "name": "stdout",
     "output_type": "stream",
     "text": [
      "1\n",
      "2\n",
      "3\n",
      "4\n",
      "5\n",
      "6\n",
      "7\n",
      "8\n",
      "9\n",
      "10\n"
     ]
    }
   ],
   "source": [
    "i = 1\n",
    "while i <= 10:\n",
    "  print(i)\n",
    "  i += 1"
   ]
  },
  {
   "cell_type": "markdown",
   "metadata": {},
   "source": [
    "7.\tWrite a program to accept a number from a user and calculate the sum of all numbers from 1 to a given number.\n",
    "For example, if the user entered 10 the output should be 55 (1+2+3+4+5+6+7+8+9+10)"
   ]
  },
  {
   "cell_type": "code",
   "execution_count": 15,
   "metadata": {},
   "outputs": [
    {
     "name": "stdout",
     "output_type": "stream",
     "text": [
      "55\n"
     ]
    }
   ],
   "source": [
    "a = int(input(\"enter the number to which you want sum starts with 1\"))\n",
    "j=0\n",
    "for i in range(1, a+1):\n",
    "    j += i\n",
    "print(j)"
   ]
  },
  {
   "cell_type": "markdown",
   "metadata": {},
   "source": [
    "8.\tWrite a Python program which iterates the integers from 1 to 50. For multiples of three print \"Fizz\" instead of the number and for the multiples of ﬁve print \"Buzz\". For numbers which are multiples of both three and ﬁve print \"FizzBuzz\".\n",
    "Example :\n",
    "ﬁzzbuzz \n",
    "1\n",
    "2\n",
    "ﬁzz \n",
    "4\n",
    "buzz\n"
   ]
  },
  {
   "cell_type": "code",
   "execution_count": 17,
   "metadata": {},
   "outputs": [
    {
     "name": "stdout",
     "output_type": "stream",
     "text": [
      "1\n",
      "2\n",
      "FIzz\n",
      "4\n",
      "Buzz\n",
      "FIzz\n",
      "7\n",
      "8\n",
      "FIzz\n",
      "Buzz\n",
      "11\n",
      "FIzz\n",
      "13\n",
      "14\n",
      "FizzBuzz\n",
      "16\n",
      "17\n",
      "FIzz\n",
      "19\n",
      "Buzz\n",
      "FIzz\n",
      "22\n",
      "23\n",
      "FIzz\n",
      "Buzz\n",
      "26\n",
      "FIzz\n",
      "28\n",
      "29\n",
      "FizzBuzz\n",
      "31\n",
      "32\n",
      "FIzz\n",
      "34\n",
      "Buzz\n",
      "FIzz\n",
      "37\n",
      "38\n",
      "FIzz\n",
      "Buzz\n",
      "41\n",
      "FIzz\n",
      "43\n",
      "44\n",
      "FizzBuzz\n",
      "46\n",
      "47\n",
      "FIzz\n",
      "49\n",
      "Buzz\n"
     ]
    }
   ],
   "source": [
    "for i in range(1, 51):\n",
    "    if i%3 == 0 and i%5 == 0:\n",
    "        print(\"FizzBuzz\")\n",
    "    elif i%3 == 0:\n",
    "        print(\"FIzz\")\n",
    "    elif i%5 == 0:\n",
    "        print(\"Buzz\")\n",
    "    else:\n",
    "        print(i)"
   ]
  }
 ],
 "metadata": {
  "kernelspec": {
   "display_name": "Python 3",
   "language": "python",
   "name": "python3"
  },
  "language_info": {
   "codemirror_mode": {
    "name": "ipython",
    "version": 3
   },
   "file_extension": ".py",
   "mimetype": "text/x-python",
   "name": "python",
   "nbconvert_exporter": "python",
   "pygments_lexer": "ipython3",
   "version": "3.11.8"
  }
 },
 "nbformat": 4,
 "nbformat_minor": 2
}
