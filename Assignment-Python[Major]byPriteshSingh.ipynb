{
 "cells": [
  {
   "cell_type": "markdown",
   "metadata": {},
   "source": [
    "1.Find the data type of these two declaration:\n",
    "x=5\n",
    "y=\"John\""
   ]
  },
  {
   "cell_type": "code",
   "execution_count": 12,
   "metadata": {},
   "outputs": [
    {
     "name": "stdout",
     "output_type": "stream",
     "text": [
      "<class 'int'>\n",
      "<class 'str'>\n"
     ]
    }
   ],
   "source": [
    "x = 5\n",
    "y = \"John\"\n",
    "\n",
    "print(type(x))\n",
    "print(type(y))"
   ]
  },
  {
   "cell_type": "markdown",
   "metadata": {},
   "source": [
    "2. Check whether the following syntax is valid or invalid for naming a variable.:\n",
    "Example:\n",
    "    abc = 100 #validsyntax\n",
    "\n",
    "i. 3a = 10\n",
    "ii. @abc = 10\n",
    "iii. a100 = 100\n",
    "iv. _a984_ = 100\n",
    "v. a9967$ = 100\n",
    "vi. xyz-2 = 100"
   ]
  },
  {
   "cell_type": "code",
   "execution_count": 22,
   "metadata": {},
   "outputs": [
    {
     "name": "stdout",
     "output_type": "stream",
     "text": [
      "100   200\n"
     ]
    }
   ],
   "source": [
    "3a = 10 # invalid syntax\n",
    "@abc = 10 # invalid syntax\n",
    "\n",
    "a100 = 100 # valid syntax\n",
    "_a984_ = 200 # valid syntax\n",
    "\n",
    "a9967$ = 100 # invalid syntax\n",
    "xyz-2 = 100 # invalid syntax\n",
    "\n",
    "print(a100, \" \", _a984_ )"
   ]
  },
  {
   "cell_type": "markdown",
   "metadata": {},
   "source": [
    "3. Check if element exists in list in Python:\n",
    "list = \n",
    "test_list = [1,6,3,5,3,4]\n",
    "\n",
    "1. Check if 3 exist or not\n",
    "2. Check if 9 exists or not"
   ]
  },
  {
   "cell_type": "code",
   "execution_count": 28,
   "metadata": {},
   "outputs": [
    {
     "name": "stdout",
     "output_type": "stream",
     "text": [
      "not exist\n",
      "not exist\n",
      "exist\n",
      "not exist\n",
      "exist\n",
      "not exist\n"
     ]
    }
   ],
   "source": [
    "test_list = [1,6,3,5,3,4]\n",
    "a = 3\n",
    "b = 9\n",
    "for i in test_list:\n",
    "    if i==a or i == b:\n",
    "        print(\"exist\")\n",
    "    else:\n",
    "        print(\"not exist\")\n",
    "        "
   ]
  },
  {
   "cell_type": "markdown",
   "metadata": {},
   "source": [
    "4.Take the user input to print the current date "
   ]
  },
  {
   "cell_type": "code",
   "execution_count": 29,
   "metadata": {},
   "outputs": [
    {
     "name": "stdout",
     "output_type": "stream",
     "text": [
      "Today date is:  2024-03-23\n"
     ]
    }
   ],
   "source": [
    "# Import date class from datetime module\n",
    "from datetime import date\n",
    " \n",
    "\n",
    "today = date.today()\n",
    "print(\"Today date is: \", today)"
   ]
  }
 ],
 "metadata": {
  "kernelspec": {
   "display_name": "Python 3",
   "language": "python",
   "name": "python3"
  },
  "language_info": {
   "codemirror_mode": {
    "name": "ipython",
    "version": 3
   },
   "file_extension": ".py",
   "mimetype": "text/x-python",
   "name": "python",
   "nbconvert_exporter": "python",
   "pygments_lexer": "ipython3",
   "version": "3.11.8"
  }
 },
 "nbformat": 4,
 "nbformat_minor": 2
}
